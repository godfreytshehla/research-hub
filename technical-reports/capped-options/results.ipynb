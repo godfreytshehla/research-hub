{
 "cells": [
  {
   "cell_type": "code",
   "execution_count": 11,
   "metadata": {},
   "outputs": [],
   "source": [
    "from capped_pricer import*\n",
    "import pandas as pd"
   ]
  },
  {
   "cell_type": "code",
   "execution_count": 12,
   "metadata": {},
   "outputs": [
    {
     "name": "stdout",
     "output_type": "stream",
     "text": [
      "   Stock Price (S0)    MC Call  Implicit Call   BSM Call    MC Put  \\\n",
      "0                90   0.089665       0.089451   0.087779  9.648882   \n",
      "1                95   0.651781       0.656504   0.655698  5.264074   \n",
      "2               100   2.510209       2.503222   2.510292  2.096904   \n",
      "3               105   5.986650       5.959744   5.961950  0.571893   \n",
      "4               110  10.298349      10.294961  10.295645  0.100941   \n",
      "\n",
      "   Implicit Put   BSM Put  \n",
      "0      9.642226  9.641420  \n",
      "1      5.238887  5.238333  \n",
      "2      2.089465  2.096219  \n",
      "3      0.573847  0.574273  \n",
      "4      0.105296  0.104432  \n"
     ]
    }
   ],
   "source": [
    "K = 100   # Strike price\n",
    "C = 20    # Cap\n",
    "r = 0.05  # Risk-free rate\n",
    "sigma = 0.2  # Volatility\n",
    "T = 1/12     # Time to maturity\n",
    "\n",
    "# Monte Carlo parameters\n",
    "n_time = 100  # Number of time steps for Monte Carlo\n",
    "n_sim = 100000  # Number of simulations for Monte Carlo\n",
    "\n",
    "# Implicit finite difference parameters\n",
    "Ntime = 100  # Number of time steps for implicit finite difference\n",
    "Nstock = 300  # Number of stock price steps for implicit finite difference\n",
    "\n",
    "# Stock prices to evaluate\n",
    "stock_prices = [90, 95, 100, 105, 110]\n",
    "\n",
    "# Initialize results table\n",
    "results = []\n",
    "\n",
    "# Calculate prices for each stock price\n",
    "for S0 in stock_prices:\n",
    "    # Monte Carlo\n",
    "    mc_call_price = monte_carlo_capped_option(S0, K, C, r, sigma, T, n_time, n_sim, option_type=\"call\")\n",
    "    mc_put_price = monte_carlo_capped_option(S0, K, C, r, sigma, T, n_time, n_sim, option_type=\"put\")\n",
    "    \n",
    "    # Implicit finite difference\n",
    "    implicit_call_price = implicit_capped_option(S0, K, C, r, sigma, T, Ntime, Nstock, option_type=\"call\")\n",
    "    implicit_put_price = implicit_capped_option(S0, K, C, r, sigma, T, Ntime, Nstock, option_type=\"put\")\n",
    "    \n",
    "    # BSM analytical\n",
    "    bsm_call_price = bsm_capped_option_price(S0, K, C, r, sigma, T, option_type=\"capped_call\")\n",
    "    bsm_put_price = bsm_capped_option_price(S0, K, C, r, sigma, T, option_type=\"capped_put\")\n",
    "    \n",
    "    # Append results to table\n",
    "    results.append([\n",
    "        S0,\n",
    "        mc_call_price, implicit_call_price, bsm_call_price,\n",
    "        mc_put_price, implicit_put_price, bsm_put_price\n",
    "    ])\n",
    "\n",
    "# Create a DataFrame for the results table\n",
    "columns = [\n",
    "    \"Stock Price (S0)\",\n",
    "    \"MC Call\", \"Implicit Call\", \"BSM Call\",\n",
    "    \"MC Put\", \"Implicit Put\", \"BSM Put\"\n",
    "]\n",
    "results_table = pd.DataFrame(results, columns=columns)\n",
    "\n",
    "# Display the results table\n",
    "print(results_table)"
   ]
  }
 ],
 "metadata": {
  "kernelspec": {
   "display_name": "Python 3",
   "language": "python",
   "name": "python3"
  },
  "language_info": {
   "codemirror_mode": {
    "name": "ipython",
    "version": 3
   },
   "file_extension": ".py",
   "mimetype": "text/x-python",
   "name": "python",
   "nbconvert_exporter": "python",
   "pygments_lexer": "ipython3",
   "version": "3.11.0"
  }
 },
 "nbformat": 4,
 "nbformat_minor": 2
}
